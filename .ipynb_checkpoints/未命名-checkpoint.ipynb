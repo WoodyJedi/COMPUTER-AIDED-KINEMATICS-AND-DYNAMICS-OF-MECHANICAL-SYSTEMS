{
 "cells": [
  {
   "cell_type": "code",
   "execution_count": 8,
   "metadata": {},
   "outputs": [],
   "source": [
    "import numpy as np\n",
    "import pandas as pd\n",
    "import math as m\n",
    "from numpy.linalg import inv,det"
   ]
  },
  {
   "cell_type": "code",
   "execution_count": 9,
   "metadata": {},
   "outputs": [
    {
     "data": {
      "text/html": [
       "<div>\n",
       "<style scoped>\n",
       "    .dataframe tbody tr th:only-of-type {\n",
       "        vertical-align: middle;\n",
       "    }\n",
       "\n",
       "    .dataframe tbody tr th {\n",
       "        vertical-align: top;\n",
       "    }\n",
       "\n",
       "    .dataframe thead th {\n",
       "        text-align: right;\n",
       "    }\n",
       "</style>\n",
       "<table border=\"1\" class=\"dataframe\">\n",
       "  <thead>\n",
       "    <tr style=\"text-align: right;\">\n",
       "      <th></th>\n",
       "      <th>H_i</th>\n",
       "      <th>Unnamed: 1</th>\n",
       "      <th>B_j</th>\n",
       "      <th>Unnamed: 3</th>\n",
       "      <th>Unnamed: 4</th>\n",
       "      <th>B_i</th>\n",
       "      <th>Unnamed: 6</th>\n",
       "      <th>Unnamed: 7</th>\n",
       "      <th>Unnamed: 8</th>\n",
       "      <th>Unnamed: 9</th>\n",
       "      <th>Unnamed: 10</th>\n",
       "    </tr>\n",
       "  </thead>\n",
       "  <tbody>\n",
       "    <tr>\n",
       "      <th>1</th>\n",
       "      <td>1</td>\n",
       "      <td>aphid</td>\n",
       "      <td>NaN</td>\n",
       "      <td>NaN</td>\n",
       "      <td>NaN</td>\n",
       "      <td>0</td>\n",
       "      <td>NaN</td>\n",
       "      <td>NaN</td>\n",
       "      <td>t^4</td>\n",
       "      <td>4*t^3</td>\n",
       "      <td>12*t^2</td>\n",
       "    </tr>\n",
       "    <tr>\n",
       "      <th>2</th>\n",
       "      <td>2</td>\n",
       "      <td>ax</td>\n",
       "      <td>NaN</td>\n",
       "      <td>NaN</td>\n",
       "      <td>NaN</td>\n",
       "      <td>0</td>\n",
       "      <td>-0.5 0</td>\n",
       "      <td>NaN</td>\n",
       "      <td>0</td>\n",
       "      <td>NaN</td>\n",
       "      <td>NaN</td>\n",
       "    </tr>\n",
       "    <tr>\n",
       "      <th>3</th>\n",
       "      <td>3</td>\n",
       "      <td>ay</td>\n",
       "      <td>NaN</td>\n",
       "      <td>NaN</td>\n",
       "      <td>NaN</td>\n",
       "      <td>0</td>\n",
       "      <td>-0.5 0</td>\n",
       "      <td>NaN</td>\n",
       "      <td>0</td>\n",
       "      <td>NaN</td>\n",
       "      <td>NaN</td>\n",
       "    </tr>\n",
       "  </tbody>\n",
       "</table>\n",
       "</div>"
      ],
      "text/plain": [
       "  H_i Unnamed: 1  B_j Unnamed: 3 Unnamed: 4 B_i Unnamed: 6 Unnamed: 7  \\\n",
       "1   1      aphid  NaN        NaN        NaN   0        NaN        NaN   \n",
       "2   2         ax  NaN        NaN        NaN   0     -0.5 0        NaN   \n",
       "3   3         ay  NaN        NaN        NaN   0     -0.5 0        NaN   \n",
       "\n",
       "  Unnamed: 8 Unnamed: 9 Unnamed: 10  \n",
       "1        t^4      4*t^3      12*t^2  \n",
       "2          0        NaN         NaN  \n",
       "3          0        NaN         NaN  "
      ]
     },
     "execution_count": 9,
     "metadata": {},
     "output_type": "execute_result"
    }
   ],
   "source": [
    "constraints=pd.read_excel('constraints.xlsx')[1:]\n",
    "constraints"
   ]
  },
  {
   "cell_type": "code",
   "execution_count": 10,
   "metadata": {},
   "outputs": [
    {
     "name": "stdout",
     "output_type": "stream",
     "text": [
      "1\n",
      "\n",
      "H_i                 1\n",
      "Unnamed: 1      aphid\n",
      "B_j               NaN\n",
      "Unnamed: 3        NaN\n",
      "Unnamed: 4        NaN\n",
      "B_i                 0\n",
      "Unnamed: 6        NaN\n",
      "Unnamed: 7        NaN\n",
      "Unnamed: 8        t^4\n",
      "Unnamed: 9      4*t^3\n",
      "Unnamed: 10    12*t^2\n",
      "Name: 1, dtype: object\n",
      "\n",
      "2\n",
      "\n",
      "H_i                 2\n",
      "Unnamed: 1         ax\n",
      "B_j               NaN\n",
      "Unnamed: 3        NaN\n",
      "Unnamed: 4        NaN\n",
      "B_i                 0\n",
      "Unnamed: 6     -0.5 0\n",
      "Unnamed: 7        NaN\n",
      "Unnamed: 8          0\n",
      "Unnamed: 9        NaN\n",
      "Unnamed: 10       NaN\n",
      "Name: 2, dtype: object\n",
      "\n",
      "3\n",
      "\n",
      "H_i                 3\n",
      "Unnamed: 1         ay\n",
      "B_j               NaN\n",
      "Unnamed: 3        NaN\n",
      "Unnamed: 4        NaN\n",
      "B_i                 0\n",
      "Unnamed: 6     -0.5 0\n",
      "Unnamed: 7        NaN\n",
      "Unnamed: 8          0\n",
      "Unnamed: 9        NaN\n",
      "Unnamed: 10       NaN\n",
      "Name: 3, dtype: object\n",
      "\n"
     ]
    }
   ],
   "source": [
    "for index, row in constraints.iterrows():\n",
    "    print(index)\n",
    "    print()\n",
    "    print(row)\n",
    "    print()"
   ]
  },
  {
   "cell_type": "code",
   "execution_count": null,
   "metadata": {},
   "outputs": [],
   "source": [
    "def calculate_V(q, t, constraints):\n",
    "    V = np.mat([0])\n",
    "    for index, row in constraints.iterrows():\n",
    "        if row['Unnamed: 1'] == 'r':\n",
    "            thisV = v_r(q,row)\n",
    "            V=np.vstack((V,thisV))\n",
    "        if row['Unnamed: 1']=='aphid':\n",
    "            thisV = v_aphid(q,t,row)\n",
    "            V=np.vstack((V,thisV))\n",
    "    return V[1:]\n",
    "t=1\n",
    "q=np.mat([0,0,0]).T\n",
    "dq=np.mat([0,0,1]).T\n",
    "calculate_Gamma(q, dq, t, constraints)"
   ]
  },
  {
   "cell_type": "code",
   "execution_count": 30,
   "metadata": {},
   "outputs": [
    {
     "name": "stdout",
     "output_type": "stream",
     "text": [
      "[]\n"
     ]
    }
   ],
   "source": [
    "# di=constraints['B_i']\n",
    "# dj=constraints['B_j']\n",
    "# df=pd.concat([di,dj], ignore_index=True)\n",
    "# n = df.value_counts().shape[0]*3\n",
    "\n",
    "# q = np.mat([0]*n).T\n",
    "# t=2\n",
    "# PHIq = np.mat([0]*q.shape[0])\n",
    "# for index, row in constraints.iterrows():\n",
    "#     if row['Unnamed: 1'] == 'ax':\n",
    "#         thisPHIq = phiq_r(q,row)\n",
    "#         PHIq=np.vstack((PHIq,thisPHIq))\n",
    "# # return PHIq[1:]\n",
    "\n",
    "# if i==0:\n",
    "#     return np.hstack((PHIqi,PHIqj))\n",
    "# else:\n",
    "#     PHIm=np.mat([0]*(j-i-1)*6).reshape(2,-1)\n",
    "#     return np.hstack((PHIqi,PHIm,PHIqj))\n",
    "\n",
    "\n",
    "# print(PHIq[1:])"
   ]
  },
  {
   "cell_type": "code",
   "execution_count": 22,
   "metadata": {},
   "outputs": [],
   "source": [
    "def phi_ax(q,row):\n",
    "    i=row['B_i']\n",
    "    xi=q[i*3,0]\n",
    "    yi=q[i*3+1,0]\n",
    "    phii=q[i*3+2,0]\n",
    "    ri=np.mat([xi,yi]).T\n",
    "    Ai=np.mat([[m.cos(phii),-m.sin(phii)],[m.sin(phii),m.cos(phii)]])\n",
    "    numbers = row['Unnamed: 6'].split(' ')\n",
    "    numbers = [ float(x) for x in numbers ]\n",
    "    si=np.mat(numbers).T\n",
    "    ci=float(row['Unnamed: 8'])\n",
    "    x=np.mat([1,0]).T\n",
    "    return x.T*(ri+Ai*si)-ci"
   ]
  },
  {
   "cell_type": "code",
   "execution_count": 23,
   "metadata": {},
   "outputs": [],
   "source": [
    "def phi_ay(q,row):\n",
    "    i=row['B_i']\n",
    "    xi=q[i*3,0]\n",
    "    yi=q[i*3+1,0]\n",
    "    phii=q[i*3+2,0]\n",
    "    ri=np.mat([xi,yi]).T\n",
    "    Ai=np.mat([[m.cos(phii),-m.sin(phii)],[m.sin(phii),m.cos(phii)]])\n",
    "    numbers = row['Unnamed: 6'].split(' ')\n",
    "    numbers = [ float(x) for x in numbers ]\n",
    "    si=np.mat(numbers).T\n",
    "    ci=float(row['Unnamed: 8'])\n",
    "    y=np.mat([0,1]).T\n",
    "    return y.T*(ri+Ai*si)-ci"
   ]
  },
  {
   "cell_type": "code",
   "execution_count": 27,
   "metadata": {},
   "outputs": [
    {
     "data": {
      "text/plain": [
       "matrix([[-0.5],\n",
       "        [ 0. ]])"
      ]
     },
     "execution_count": 27,
     "metadata": {},
     "output_type": "execute_result"
    }
   ],
   "source": [
    "def calculate_PHI(q, t, constraints):\n",
    "    PHI = np.mat([0])\n",
    "    for index, row in constraints.iterrows():\n",
    "#         if row['Unnamed: 1'] == 'r':\n",
    "#             thisPHI = phi_r(q,row)\n",
    "        if row['Unnamed: 1']=='ay':\n",
    "            thisPHI = phi_ay(q,row)\n",
    "            PHI=np.vstack((PHI,thisPHI))\n",
    "        if row['Unnamed: 1'] == 'ax':\n",
    "            thisPHI = phi_ax(q,row)\n",
    "            PHI=np.vstack((PHI,thisPHI))\n",
    "    return PHI[1:]\n",
    "t=1\n",
    "q=np.mat([0,0,0]).T\n",
    "calculate_PHI(q, t, constraints)"
   ]
  },
  {
   "cell_type": "code",
   "execution_count": 31,
   "metadata": {},
   "outputs": [],
   "source": [
    "def gamma_ax(q,dq,row):\n",
    "    i=row['B_i']\n",
    "    phii=q[i*3+2,0]\n",
    "    dphii=dq[i*3+2,0]\n",
    "    Ai=np.mat([[m.cos(phii),-m.sin(phii)],[m.sin(phii),m.cos(phii)]])\n",
    "    numbers = row['Unnamed: 6'].split(' ')\n",
    "    numbers = [ float(x) for x in numbers ]\n",
    "    si=np.mat(numbers).T\n",
    "    x=np.mat([1,0]).T\n",
    "\n",
    "    return x.T*Ai*si*dphii*dphii"
   ]
  },
  {
   "cell_type": "code",
   "execution_count": 39,
   "metadata": {},
   "outputs": [],
   "source": [
    "def gamma_ay(q,dq,row):\n",
    "    i=row['B_i']\n",
    "    phii=q[i*3+2,0]\n",
    "    dphii=dq[i*3+2,0]\n",
    "    Ai=np.mat([[m.cos(phii),-m.sin(phii)],[m.sin(phii),m.cos(phii)]])\n",
    "    numbers = row['Unnamed: 6'].split(' ')\n",
    "    numbers = [ float(x) for x in numbers ]\n",
    "    si=np.mat(numbers).T\n",
    "    y=np.mat([0,1]).T\n",
    "\n",
    "    return y.T*Ai*si*dphii*dphii"
   ]
  },
  {
   "cell_type": "code",
   "execution_count": 40,
   "metadata": {},
   "outputs": [
    {
     "data": {
      "text/plain": [
       "matrix([[-0.5],\n",
       "        [ 0. ]])"
      ]
     },
     "execution_count": 40,
     "metadata": {},
     "output_type": "execute_result"
    }
   ],
   "source": [
    "def calculate_Gamma(q, dq, t, constraints):\n",
    "    Gamma = np.mat([0])\n",
    "    for index, row in constraints.iterrows():\n",
    "#         if row['Unnamed: 1'] == 'r':\n",
    "#             thisGamma = gamma_r(q,dq,row)\n",
    "            \n",
    "#         if row['Unnamed: 1']=='aphid':\n",
    "#             thisGamma = gamma_aphid(q,t,row)\n",
    "        if row['Unnamed: 1']=='ax':\n",
    "            thisGamma = gamma_ax(q,dq,row)\n",
    "            Gamma=np.vstack((Gamma,thisGamma))\n",
    "        if row['Unnamed: 1']=='ay':\n",
    "            thisGamma = gamma_ay(q,dq,row)\n",
    "            Gamma=np.vstack((Gamma,thisGamma))\n",
    "\n",
    "    return Gamma[1:]\n",
    "t=1\n",
    "q=np.mat([0,0,0]).T\n",
    "dq=np.mat([0,0,1]).T\n",
    "calculate_Gamma(q, dq, t, constraints)"
   ]
  }
 ],
 "metadata": {
  "kernelspec": {
   "display_name": "Python 3",
   "language": "python",
   "name": "python3"
  },
  "language_info": {
   "codemirror_mode": {
    "name": "ipython",
    "version": 3
   },
   "file_extension": ".py",
   "mimetype": "text/x-python",
   "name": "python",
   "nbconvert_exporter": "python",
   "pygments_lexer": "ipython3",
   "version": "3.8.5"
  }
 },
 "nbformat": 4,
 "nbformat_minor": 4
}
